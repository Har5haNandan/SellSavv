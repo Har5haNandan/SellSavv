{
 "cells": [
  {
   "cell_type": "code",
   "execution_count": 229,
   "id": "25a1088d",
   "metadata": {},
   "outputs": [],
   "source": [
    "import pandas as pd\n",
    "import numpy as np\n",
    "from datetime import datetime, timedelta\n",
    "import os"
   ]
  },
  {
   "cell_type": "code",
   "execution_count": 230,
   "id": "8c034659",
   "metadata": {},
   "outputs": [],
   "source": [
    "#This mapping should be used for asins list for seller central data pulling also\n",
    "df_mapping = pd.read_csv(\"input/Origami Centralised Sales Control Management (CSCM) - SKU Master (1).csv\")\n",
    "# df_mapping = df_mapping[['ASIN','Brand','Category']]\n",
    "df_mapping = df_mapping[['ASIN','Category']]\n",
    "df_mapping = df_mapping[~df_mapping['ASIN'].isna()]\n",
    "\n",
    "#Dashboard\n",
    "df_mapping_2 = pd.read_excel(\"input/Dashboard Master.xlsx\",sheet_name=\"Origami - Amazon\")\n",
    "\n",
    "#targets\n",
    "df_target = pd.read_excel(\"Target_Origami.xlsx\")"
   ]
  },
  {
   "cell_type": "code",
   "execution_count": 231,
   "id": "7046230f",
   "metadata": {},
   "outputs": [
    {
     "name": "stdout",
     "output_type": "stream",
     "text": [
      "Reading Excel file: data/sales/sc/latest/Origami/Origami_A1HIXF7WLP0VDZ_2025-03-01-TO-2025-03-25_seller_central.xlsx\n"
     ]
    }
   ],
   "source": [
    "#Sales Data - Seller Central\n",
    "\n",
    "# Path to the folder\n",
    "folder_path = \"data/sales/sc/latest/Origami\"\n",
    "\n",
    "# List all Excel files in the folder\n",
    "excel_files = [f for f in os.listdir(folder_path) \n",
    "               if f.endswith(('.xlsx', '.xls')) and os.path.isfile(os.path.join(folder_path, f))]\n",
    "\n",
    "# Check if there's at least one Excel file\n",
    "if excel_files:\n",
    "    first_file = excel_files[0]\n",
    "    file_path = os.path.join(folder_path, first_file)\n",
    "    print(f\"Reading Excel file: {file_path}\")\n",
    "\n",
    "    # Read the Excel file into a DataFrame\n",
    "    df_seller = pd.read_excel(file_path)\n",
    "#     print(df.head())  # Show first few rows\n",
    "else:\n",
    "    print(\"No Excel files found in the Origami folder.\")"
   ]
  },
  {
   "cell_type": "code",
   "execution_count": 232,
   "id": "c29f56b3",
   "metadata": {},
   "outputs": [],
   "source": [
    "df_seller['Date'] = df_seller['interval'].str[:10]"
   ]
  },
  {
   "cell_type": "code",
   "execution_count": 233,
   "id": "5607635f",
   "metadata": {},
   "outputs": [
    {
     "name": "stdout",
     "output_type": "stream",
     "text": [
      "data/sales/vc/latest/Origami/amzn1.vg.8129292/Origami_amzn1.vg.8129292_2025-03-01-TO-2025-03-24.csv\n",
      "data/sales/vc/latest/Origami/amzn1.vg.7597762/Origami_amzn1.vg.7597762_2025-03-01-TO-2025-03-24.csv\n",
      "Combined DataFrame shape: (2139, 10)\n"
     ]
    }
   ],
   "source": [
    "# Root folder\n",
    "root_folder = \"data/sales/vc/latest/Origami\"\n",
    "\n",
    "# Create a list to hold all DataFrames\n",
    "all_dfs = []\n",
    "\n",
    "# Walk through all subdirectories\n",
    "for dirpath, _, filenames in os.walk(root_folder):\n",
    "    for filename in filenames:\n",
    "        if filename.endswith(('.csv')):\n",
    "            file_path = os.path.join(dirpath, filename)\n",
    "            print(file_path)\n",
    "            try:\n",
    "                df = pd.read_csv(file_path)\n",
    "                df['__source_file__'] = file_path  # Optional: track source of each row\n",
    "                all_dfs.append(df)\n",
    "#                 print(df.shape)\n",
    "            except Exception as e:\n",
    "                print(f\"Failed to read {file_path}: {e}\")\n",
    "\n",
    "# Combine all DataFrames\n",
    "if all_dfs:\n",
    "    df_vendor = pd.concat(all_dfs, ignore_index=True)\n",
    "    print(\"Combined DataFrame shape:\", combined_df.shape)\n",
    "#     print(combined_df.head())\n",
    "else:\n",
    "    print(\"No CSV files found in any subfolder of Origami.\")\n"
   ]
  },
  {
   "cell_type": "code",
   "execution_count": 234,
   "id": "7a526a18",
   "metadata": {},
   "outputs": [],
   "source": [
    "brand = \"Origami\""
   ]
  },
  {
   "cell_type": "code",
   "execution_count": 235,
   "id": "d27a3f40",
   "metadata": {},
   "outputs": [],
   "source": [
    "start_date = '2025-03-01'\n",
    "end_date = '2025-03-24'"
   ]
  },
  {
   "cell_type": "code",
   "execution_count": 236,
   "id": "8276ae28",
   "metadata": {},
   "outputs": [],
   "source": [
    "end_date_obj = datetime.strptime(end_date, '%Y-%m-%d')\n",
    "\n",
    "# Calculate the total days in the end_date's month\n",
    "if end_date_obj.month == 12:  # December is the last month\n",
    "    next_month = datetime(end_date_obj.year + 1, 1, 1)\n",
    "else:\n",
    "    next_month = datetime(end_date_obj.year, end_date_obj.month + 1, 1)\n",
    "\n",
    "total_days_in_month = (next_month - datetime(end_date_obj.year, end_date_obj.month, 1)).days\n",
    "\n",
    "# Days that have already passed in the month\n",
    "days_passed = end_date_obj.day"
   ]
  },
  {
   "cell_type": "code",
   "execution_count": 237,
   "id": "4e6d0de4",
   "metadata": {},
   "outputs": [],
   "source": [
    "# Convert start_date and end_date to datetime for consistency\n",
    "start_date = pd.to_datetime(start_date)\n",
    "end_date = pd.to_datetime(end_date)\n",
    "end_date_minus_1 = end_date - pd.Timedelta(days=1)\n",
    "\n",
    "# Assuming df_seller and df_vendor are your DataFrames\n",
    "# Convert 'Date' and 'startDate' columns to datetime\n",
    "df_seller['Date'] = pd.to_datetime(df_seller['Date'], errors='coerce')\n",
    "df_vendor['startDate'] = pd.to_datetime(df_vendor['startDate'], errors='coerce')\n",
    "\n",
    "# Filter the DataFrames for the given date range\n",
    "df_seller = df_seller[(df_seller['Date'] <= end_date) & (df_seller['Date'] >= start_date)]\n",
    "df_vendor = df_vendor[(df_vendor['startDate'] <= end_date) & (df_vendor['startDate'] >= start_date)]\n"
   ]
  },
  {
   "cell_type": "code",
   "execution_count": 238,
   "id": "0e1a29f1",
   "metadata": {},
   "outputs": [],
   "source": [
    "#end date and end date - 1\n",
    "df_seller_ed = df_seller[df_seller['Date'] == end_date]\n",
    "df_seller_ed_m1 = df_seller[df_seller['Date'] == end_date_minus_1] #in pipeline this needs to come from last report\n",
    "\n",
    "#end date and end date - 1\n",
    "df_vendor_ed = df_vendor[df_vendor['startDate'] == end_date]\n",
    "df_vendor_ed_m1 = df_vendor[df_vendor['startDate'] == end_date_minus_1] #in pipeline this needs to come from last report"
   ]
  },
  {
   "cell_type": "code",
   "execution_count": 239,
   "id": "fe7525d3",
   "metadata": {},
   "outputs": [],
   "source": [
    "#Streamlit Data prep\n",
    "df_seller2 = df_seller.groupby([\"Date\",\"ASIN\"])[['totalSales','orderCount']].sum().reset_index()\n",
    "df_vendor2 = df_vendor.groupby([\"startDate\",\"asin\"])[['orderedRevenue','orderedUnits']].sum().reset_index()\n",
    "\n",
    "df_seller2.columns = ['Date','ASIN', 'GMV', 'Quantity']\n",
    "df_vendor2.columns = ['Date','ASIN', 'GMV', 'Quantity']\n",
    "\n",
    "df_sales2 = df_vendor2.merge(df_seller2,on=['Date','ASIN'],how='outer').fillna(0)\n",
    "df_sales2['GMV'] = df_sales2['GMV_x'] + df_sales2['GMV_y']\n",
    "df_sales2['Quantity'] = df_sales2['Quantity_x'] + df_sales2['Quantity_y']\n",
    "\n",
    "df_sales2 = df_sales2[['Date','ASIN', 'GMV', 'Quantity']]"
   ]
  },
  {
   "cell_type": "code",
   "execution_count": 240,
   "id": "8822eac1",
   "metadata": {},
   "outputs": [],
   "source": [
    "df_seller = df_seller.groupby(\"ASIN\")[['totalSales','orderCount']].sum().reset_index()\n",
    "df_seller_ed = df_seller_ed.groupby(\"ASIN\")[['totalSales','orderCount']].sum().reset_index()\n",
    "df_seller_ed_m1 = df_seller_ed_m1.groupby(\"ASIN\")[['totalSales','orderCount']].sum().reset_index()"
   ]
  },
  {
   "cell_type": "code",
   "execution_count": 241,
   "id": "ba77052d",
   "metadata": {},
   "outputs": [],
   "source": [
    "df_vendor = df_vendor.groupby(\"asin\")[['orderedRevenue','orderedUnits']].sum().reset_index()\n",
    "df_vendor_ed = df_vendor_ed.groupby(\"asin\")[['orderedRevenue','orderedUnits']].sum().reset_index()\n",
    "df_vendor_ed_m1 = df_vendor_ed_m1.groupby(\"asin\")[['orderedRevenue','orderedUnits']].sum().reset_index()"
   ]
  },
  {
   "cell_type": "code",
   "execution_count": 242,
   "id": "4af605ab",
   "metadata": {},
   "outputs": [],
   "source": [
    "df_seller.columns = ['ASIN', 'GMV', 'Quantity']\n",
    "df_vendor.columns = ['ASIN', 'GMV', 'Quantity']\n",
    "\n",
    "df_seller_ed.columns = ['ASIN', 'GMV', 'Quantity']\n",
    "df_vendor_ed.columns = ['ASIN', 'GMV', 'Quantity']\n",
    "\n",
    "df_seller_ed_m1.columns = ['ASIN', 'GMV', 'Quantity']\n",
    "df_vendor_ed_m1.columns = ['ASIN', 'GMV', 'Quantity']"
   ]
  },
  {
   "cell_type": "code",
   "execution_count": 243,
   "id": "3e1c0798",
   "metadata": {},
   "outputs": [],
   "source": [
    "df_sales = df_vendor.merge(df_seller,on='ASIN',how='outer').fillna(0)\n",
    "df_sales['GMV'] = df_sales['GMV_x'] + df_sales['GMV_y']\n",
    "df_sales['Quantity'] = df_sales['Quantity_x'] + df_sales['Quantity_y']\n",
    "\n",
    "df_sales_ed = df_vendor_ed.merge(df_seller_ed,on='ASIN',how='outer').fillna(0)\n",
    "df_sales_ed['GMV'] = df_sales_ed['GMV_x'] + df_sales_ed['GMV_y']\n",
    "df_sales_ed['Quantity'] = df_sales_ed['Quantity_x'] + df_sales_ed['Quantity_y']\n",
    "\n",
    "df_sales_ed_m1 = df_vendor_ed_m1.merge(df_seller_ed_m1,on='ASIN',how='outer').fillna(0)\n",
    "df_sales_ed_m1['GMV'] = df_sales_ed_m1['GMV_x'] + df_sales_ed_m1['GMV_y']\n",
    "df_sales_ed_m1['Quantity'] = df_sales_ed_m1['Quantity_x'] + df_sales_ed_m1['Quantity_y']"
   ]
  },
  {
   "cell_type": "code",
   "execution_count": 244,
   "id": "1d63a705",
   "metadata": {},
   "outputs": [],
   "source": [
    "df_sales = df_sales[['ASIN', 'GMV', 'Quantity']]\n",
    "df_sales_ed = df_sales_ed[['ASIN', 'GMV', 'Quantity']]\n",
    "df_sales_ed_m1 = df_sales_ed_m1[['ASIN', 'GMV', 'Quantity']]"
   ]
  },
  {
   "cell_type": "code",
   "execution_count": 245,
   "id": "b2891a12",
   "metadata": {},
   "outputs": [
    {
     "data": {
      "text/plain": [
       "set()"
      ]
     },
     "execution_count": 245,
     "metadata": {},
     "output_type": "execute_result"
    }
   ],
   "source": [
    "#should be zero\n",
    "set(df_vendor['ASIN']) - set(df_mapping['ASIN'])"
   ]
  },
  {
   "cell_type": "code",
   "execution_count": 246,
   "id": "e3fe1252",
   "metadata": {},
   "outputs": [
    {
     "data": {
      "text/plain": [
       "set()"
      ]
     },
     "execution_count": 246,
     "metadata": {},
     "output_type": "execute_result"
    }
   ],
   "source": [
    "#should be zero\n",
    "set(df_seller['ASIN']) - set(df_mapping['ASIN'])"
   ]
  },
  {
   "cell_type": "code",
   "execution_count": 247,
   "id": "c2d8d71f",
   "metadata": {},
   "outputs": [
    {
     "data": {
      "text/plain": [
       "{'-', 'B0D83BG8Z9/ B0DF528DX8'}"
      ]
     },
     "execution_count": 247,
     "metadata": {},
     "output_type": "execute_result"
    }
   ],
   "source": [
    "#should be zero\n",
    "set(df_mapping['ASIN']) - set(df_seller['ASIN'])"
   ]
  },
  {
   "cell_type": "code",
   "execution_count": 248,
   "id": "45d938dd",
   "metadata": {},
   "outputs": [
    {
     "name": "stdout",
     "output_type": "stream",
     "text": [
      "251\n",
      "0\n"
     ]
    }
   ],
   "source": [
    "#should not have duplicates / 1-1 mapping\n",
    "print(df_mapping.duplicated(subset=['ASIN']).sum())\n",
    "df_mapping = df_mapping.drop_duplicates(subset=['ASIN'])\n",
    "print(df_mapping.duplicated(subset=['ASIN']).sum())"
   ]
  },
  {
   "cell_type": "code",
   "execution_count": 249,
   "id": "a68d7ee1",
   "metadata": {},
   "outputs": [],
   "source": [
    "df_sales = df_sales.merge(df_mapping,on='ASIN',how='left')\n",
    "df_sales_ed = df_sales_ed.merge(df_mapping,on='ASIN',how='left')\n",
    "df_sales_ed_m1 = df_sales_ed_m1.merge(df_mapping,on='ASIN',how='left')"
   ]
  },
  {
   "cell_type": "code",
   "execution_count": 250,
   "id": "7ef688a6",
   "metadata": {},
   "outputs": [],
   "source": [
    "df_sales = df_sales.groupby('Category')[['GMV','Quantity']].sum().reset_index()\n",
    "df_sales_ed = df_sales_ed.groupby('Category')[['GMV','Quantity']].sum().reset_index()\n",
    "df_sales_ed_m1 = df_sales_ed_m1.groupby('Category')[['GMV','Quantity']].sum().reset_index()"
   ]
  },
  {
   "cell_type": "code",
   "execution_count": 251,
   "id": "c5a8182b",
   "metadata": {},
   "outputs": [],
   "source": [
    "#Streamlit Data prep\n",
    "\n",
    "df_sales2 = df_sales2.merge(df_mapping,on='ASIN',how='left')\n",
    "df_sales2 = df_sales2.groupby(['Date','Category'])[['GMV','Quantity']].sum().reset_index()\n",
    "\n",
    "df_sales2 = df_sales2.merge(\n",
    "    df_target[['Category','GMV']], \n",
    "    on='Category', \n",
    "    how='left', \n",
    "    suffixes=('', '_target')\n",
    ")\n",
    "\n",
    "# Now create the \"Targeted_GMV\" by applying the fraction of the current day\n",
    "# over the total days in the month for that Date.\n",
    "df_sales2['GMV_target'] = df_sales2['GMV_target'].fillna(0).astype(\"int64\")\n",
    "\n",
    "# 4) Calculate fraction of month\n",
    "fraction_of_month = df_sales2['Date'].dt.day / df_sales2['Date'].dt.days_in_month\n",
    "\n",
    "# 5) Create \"Targeted_GMV\"\n",
    "df_sales2['Targeted_GMV'] = df_sales2['GMV_target'] * fraction_of_month\n"
   ]
  },
  {
   "cell_type": "code",
   "execution_count": 252,
   "id": "3756ead2",
   "metadata": {},
   "outputs": [],
   "source": [
    "df_sales2['Targeted_GMV'] = df_sales2['Targeted_GMV'].round(2).astype(float)\n"
   ]
  },
  {
   "cell_type": "code",
   "execution_count": 253,
   "id": "354956ac",
   "metadata": {},
   "outputs": [],
   "source": [
    "import pandas as pd\n",
    "import numpy as np\n",
    "\n",
    "df_sales2['Date'] = pd.to_datetime(df_sales2['Date'])\n",
    "\n",
    "extended_dfs = []\n",
    "\n",
    "# Get unique categories:\n",
    "categories = df_sales2['Category'].unique()\n",
    "\n",
    "for cat in categories:\n",
    "    # Subset for this Category:\n",
    "    sub = df_sales2[df_sales2['Category'] == cat].copy()\n",
    "\n",
    "    # Identify the month we're dealing with (assuming one month per category).\n",
    "    # For example, if everything is in January 2025:\n",
    "    #   - get the earliest date and replace day=1 to find month start\n",
    "    month_start = sub['Date'].min().replace(day=1)\n",
    "    #   - find the last day of that month\n",
    "    month_end = month_start + pd.offsets.MonthEnd(0)\n",
    "\n",
    "    # Create the full daily date range for that month\n",
    "    all_days = pd.date_range(start=month_start, end=month_end, freq='D')\n",
    "\n",
    "    # Reindex the sub-DataFrame onto the full date range\n",
    "    sub = (\n",
    "        sub.set_index('Date')\n",
    "           .reindex(all_days)         # daily row for each day in that month\n",
    "           .rename_axis('Date')       # name the index \"Date\"\n",
    "           .reset_index()\n",
    "    )\n",
    "\n",
    "    # Insert Category column\n",
    "    sub['Category'] = cat\n",
    "\n",
    "    #--- DO NOT fill GMV with 0; we want to keep extended days as NaN ---\n",
    "    # sub['GMV']      = sub['GMV'].fillna(0)  # <-- We *do not* do this!\n",
    "    # sub['Quantity'] = sub['Quantity'].fillna(0)\n",
    "\n",
    "    # Instead, only fill monthly GMV_target forward (and back if needed).\n",
    "    # That way every row in the month has the same monthly target.\n",
    "    sub['GMV_target'] = sub['GMV_target'].ffill().bfill().fillna(0)\n",
    "\n",
    "    # Compute the fraction of the month for each day\n",
    "    sub['fraction_of_month'] = sub['Date'].dt.day / sub['Date'].dt.days_in_month\n",
    "\n",
    "    # Daily targeted GMV\n",
    "    sub['Targeted_GMV'] = sub['GMV_target'] * sub['fraction_of_month']\n",
    "\n",
    "    # For days after the last actual sale date, we want GMV and Quantity = NaN\n",
    "    # so that the cumulative GMV for those days is also NaN\n",
    "    max_actual_date = df_sales2.loc[df_sales2['Category'] == cat, 'Date'].max()\n",
    "    sub.loc[sub['Date'] > max_actual_date, ['GMV','Quantity']] = np.nan\n",
    "\n",
    "    # Now compute the Cumulative GMV for the days that do have data\n",
    "    # By default, if GMV is NaN for a row, cumsum() will also be NaN from that row onward\n",
    "    # (meaning \"no data\" for extended days).\n",
    "    sub['Cumulative_GMV'] = sub['GMV'].cumsum()\n",
    "\n",
    "    # Similarly, if you want to track cumulative Targeted_GMV (even for future days),\n",
    "    # you could do:\n",
    "    sub['Cumulative_Targeted_GMV'] = sub['Targeted_GMV'].cumsum()\n",
    "\n",
    "    extended_dfs.append(sub)\n",
    "\n",
    "# Concatenate everything\n",
    "df_extended = pd.concat(extended_dfs, ignore_index=True)\n",
    "\n",
    "# Now df_extended has:\n",
    "#  - Rows for every day of the month for each Category\n",
    "#  - GMV as NaN on days that are \"extended\"\n",
    "#  - A daily Targeted_GMV for each day\n",
    "#  - 'Cumulative_GMV' that stops after the last actual day (becomes NaN)\n",
    "#  - 'Cumulative_Targeted_GMV' is computed for all days\n"
   ]
  },
  {
   "cell_type": "code",
   "execution_count": 254,
   "id": "f1702300",
   "metadata": {},
   "outputs": [],
   "source": [
    "df_extended['Targeted_GMV'] = df_extended['Targeted_GMV'].round(2).astype(float)\n",
    "df_extended['Cumulative_Targeted_GMV'] = df_extended['Cumulative_Targeted_GMV'].round(2).astype(float)\n"
   ]
  },
  {
   "cell_type": "code",
   "execution_count": 255,
   "id": "8ffed5fe",
   "metadata": {},
   "outputs": [
    {
     "data": {
      "image/png": "[encoded data removed]",
      "text/plain": [
       "<Figure size 1000x500 with 1 Axes>"
      ]
     },
     "metadata": {},
     "output_type": "display_data"
    }
   ],
   "source": [
    "import matplotlib.pyplot as plt\n",
    "\n",
    "# 1) Filter df_extended for the Category you want\n",
    "cat = \"Pocket Tissues\"  # <-- Example category name\n",
    "sub = df_extended[df_extended['Category'] == cat].copy()\n",
    "\n",
    "# 2) Sort by Date to ensure the lines plot in chronological order\n",
    "sub.sort_values(by='Date', inplace=True)\n",
    "\n",
    "# 3) Plot\n",
    "plt.figure(figsize=(10, 5))\n",
    "plt.plot(sub['Date'], sub['Cumulative_GMV'], label='Sales')\n",
    "plt.plot(sub['Date'], sub['Targeted_GMV'], label='Targeted_GMV')\n",
    "\n",
    "# 4) Tidy up\n",
    "plt.title(f\"Sales vs. Targeted GMV for '{cat}'\")\n",
    "plt.xlabel(\"Date\")\n",
    "plt.ylabel(\"GMV\")\n",
    "plt.xticks(rotation=45)\n",
    "plt.legend()\n",
    "plt.tight_layout()\n",
    "plt.show()\n"
   ]
  },
  {
   "cell_type": "code",
   "execution_count": 256,
   "id": "a3daaa2c",
   "metadata": {},
   "outputs": [],
   "source": [
    "df_extended['Brand'] = brand\n",
    "df_extended['Platform'] = \"Amazon\"\n",
    "df_extended = df_extended[['Date','Brand','Platform' ,'Category', 'GMV', 'Targeted_GMV', 'Cumulative_GMV']]"
   ]
  },
  {
   "cell_type": "code",
   "execution_count": 257,
   "id": "9822797f",
   "metadata": {},
   "outputs": [
    {
     "data": {
      "text/html": [
       "<div>\n",
       "<style scoped>\n",
       "    .dataframe tbody tr th:only-of-type {\n",
       "        vertical-align: middle;\n",
       "    }\n",
       "\n",
       "    .dataframe tbody tr th {\n",
       "        vertical-align: top;\n",
       "    }\n",
       "\n",
       "    .dataframe thead th {\n",
       "        text-align: right;\n",
       "    }\n",
       "</style>\n",
       "<table border=\"1\" class=\"dataframe\">\n",
       "  <thead>\n",
       "    <tr style=\"text-align: right;\">\n",
       "      <th></th>\n",
       "      <th>Date</th>\n",
       "      <th>Brand</th>\n",
       "      <th>Platform</th>\n",
       "      <th>Category</th>\n",
       "      <th>GMV</th>\n",
       "      <th>Targeted_GMV</th>\n",
       "      <th>Cumulative_GMV</th>\n",
       "    </tr>\n",
       "  </thead>\n",
       "  <tbody>\n",
       "    <tr>\n",
       "      <th>0</th>\n",
       "      <td>2025-03-01</td>\n",
       "      <td>Origami</td>\n",
       "      <td>Amazon</td>\n",
       "      <td>Aluminium Foil</td>\n",
       "      <td>44255.52</td>\n",
       "      <td>42287.16</td>\n",
       "      <td>44255.52</td>\n",
       "    </tr>\n",
       "    <tr>\n",
       "      <th>1</th>\n",
       "      <td>2025-03-02</td>\n",
       "      <td>Origami</td>\n",
       "      <td>Amazon</td>\n",
       "      <td>Aluminium Foil</td>\n",
       "      <td>56788.69</td>\n",
       "      <td>84574.32</td>\n",
       "      <td>101044.21</td>\n",
       "    </tr>\n",
       "    <tr>\n",
       "      <th>2</th>\n",
       "      <td>2025-03-03</td>\n",
       "      <td>Origami</td>\n",
       "      <td>Amazon</td>\n",
       "      <td>Aluminium Foil</td>\n",
       "      <td>48102.24</td>\n",
       "      <td>126861.48</td>\n",
       "      <td>149146.45</td>\n",
       "    </tr>\n",
       "    <tr>\n",
       "      <th>3</th>\n",
       "      <td>2025-03-04</td>\n",
       "      <td>Origami</td>\n",
       "      <td>Amazon</td>\n",
       "      <td>Aluminium Foil</td>\n",
       "      <td>38855.97</td>\n",
       "      <td>169148.65</td>\n",
       "      <td>188002.42</td>\n",
       "    </tr>\n",
       "    <tr>\n",
       "      <th>4</th>\n",
       "      <td>2025-03-05</td>\n",
       "      <td>Origami</td>\n",
       "      <td>Amazon</td>\n",
       "      <td>Aluminium Foil</td>\n",
       "      <td>46072.00</td>\n",
       "      <td>211435.81</td>\n",
       "      <td>234074.42</td>\n",
       "    </tr>\n",
       "  </tbody>\n",
       "</table>\n",
       "</div>"
      ],
      "text/plain": [
       "        Date    Brand Platform        Category       GMV  Targeted_GMV  \\\n",
       "0 2025-03-01  Origami   Amazon  Aluminium Foil  44255.52      42287.16   \n",
       "1 2025-03-02  Origami   Amazon  Aluminium Foil  56788.69      84574.32   \n",
       "2 2025-03-03  Origami   Amazon  Aluminium Foil  48102.24     126861.48   \n",
       "3 2025-03-04  Origami   Amazon  Aluminium Foil  38855.97     169148.65   \n",
       "4 2025-03-05  Origami   Amazon  Aluminium Foil  46072.00     211435.81   \n",
       "\n",
       "   Cumulative_GMV  \n",
       "0        44255.52  \n",
       "1       101044.21  \n",
       "2       149146.45  \n",
       "3       188002.42  \n",
       "4       234074.42  "
      ]
     },
     "execution_count": 257,
     "metadata": {},
     "output_type": "execute_result"
    }
   ],
   "source": [
    "df_extended.head()"
   ]
  },
  {
   "cell_type": "code",
   "execution_count": 258,
   "id": "cca8e31b",
   "metadata": {},
   "outputs": [],
   "source": [
    "df_extended.to_excel(brand+\"_sales_amz.xlsx\")\n"
   ]
  },
  {
   "cell_type": "code",
   "execution_count": null,
   "id": "ff3aa79b",
   "metadata": {},
   "outputs": [],
   "source": []
  },
  {
   "cell_type": "code",
   "execution_count": 259,
   "id": "166316e0",
   "metadata": {},
   "outputs": [],
   "source": [
    "df_output = df_target.merge(df_sales,on='Category',how='left')"
   ]
  },
  {
   "cell_type": "code",
   "execution_count": 260,
   "id": "597c8629",
   "metadata": {},
   "outputs": [],
   "source": [
    "df_output.columns = ['Category', 'GMV_Target', 'Quantity_Target', 'ASP', 'GMV_MTD', 'Quantity_MTD']"
   ]
  },
  {
   "cell_type": "code",
   "execution_count": 261,
   "id": "565dc464",
   "metadata": {},
   "outputs": [],
   "source": [
    "df_output['GMV_Target'] = df_output['GMV_Target'].astype(\"float\")"
   ]
  },
  {
   "cell_type": "code",
   "execution_count": 262,
   "id": "31d9b76c",
   "metadata": {},
   "outputs": [],
   "source": [
    "df_sales_ed.columns = ['Category', 'GMV_'+str(end_date)[:10], 'Quantity_'+str(end_date)[:10]]\n",
    "df_sales_ed_m1.columns = ['Category', 'GMV_'+str(end_date_minus_1)[:10], 'Quantity_'+str(end_date_minus_1)[:10]]"
   ]
  },
  {
   "cell_type": "code",
   "execution_count": 263,
   "id": "ff68080f",
   "metadata": {},
   "outputs": [],
   "source": [
    "df_output = df_output.merge(df_sales_ed,on='Category',how='left')\n",
    "df_output = df_output.merge(df_sales_ed_m1,on='Category',how='left')"
   ]
  },
  {
   "cell_type": "code",
   "execution_count": 264,
   "id": "26466620",
   "metadata": {},
   "outputs": [],
   "source": [
    "df_output = df_output.fillna(0)"
   ]
  },
  {
   "cell_type": "code",
   "execution_count": 265,
   "id": "6b08d65a",
   "metadata": {},
   "outputs": [],
   "source": [
    "df_output['Attainment%_MTD'] = (df_output['GMV_MTD']/df_output['GMV_Target'])*100"
   ]
  },
  {
   "cell_type": "code",
   "execution_count": 266,
   "id": "c3010cb3",
   "metadata": {},
   "outputs": [],
   "source": [
    "df_output['Attainment%_Forecast'] = df_output['Attainment%_MTD']*(total_days_in_month/days_passed)\n",
    "df_output['GMV_Forecast'] = df_output['GMV_MTD']*(total_days_in_month/days_passed)"
   ]
  },
  {
   "cell_type": "code",
   "execution_count": 267,
   "id": "46c2e3bd",
   "metadata": {},
   "outputs": [],
   "source": [
    "df_output[['Attainment%_MTD','Attainment%_Forecast','GMV_Target','GMV_Forecast','GMV_MTD','GMV_'+str(end_date)[:10],'GMV_'+str(end_date_minus_1)[:10]]] = df_output[['Attainment%_MTD','Attainment%_Forecast','GMV_Target','GMV_Forecast','GMV_MTD','GMV_'+str(end_date)[:10],'GMV_'+str(end_date_minus_1)[:10]]].round(0)"
   ]
  },
  {
   "cell_type": "code",
   "execution_count": 268,
   "id": "d22518b2",
   "metadata": {},
   "outputs": [],
   "source": [
    "df_report = df_output[['Category','Attainment%_MTD','Attainment%_Forecast','GMV_Target','GMV_Forecast','GMV_MTD','GMV_'+str(end_date)[:10],'GMV_'+str(end_date_minus_1)[:10]]]"
   ]
  },
  {
   "cell_type": "code",
   "execution_count": 269,
   "id": "f01fd9f1",
   "metadata": {},
   "outputs": [
    {
     "name": "stderr",
     "output_type": "stream",
     "text": [
      "/var/folders/jb/jckdq3kd0lz19pvvlchblf400000gn/T/ipykernel_45900/978419422.py:1: SettingWithCopyWarning: \n",
      "A value is trying to be set on a copy of a slice from a DataFrame.\n",
      "Try using .loc[row_indexer,col_indexer] = value instead\n",
      "\n",
      "See the caveats in the documentation: https://pandas.pydata.org/pandas-docs/stable/user_guide/indexing.html#returning-a-view-versus-a-copy\n",
      "  df_report['Comparative difference'] = ((df_report['GMV_'+str(end_date)[:10]] - df_report['GMV_'+str(end_date_minus_1)[:10]]) / df_report['GMV_'+str(end_date_minus_1)[:10]]) * 100\n"
     ]
    }
   ],
   "source": [
    "df_report['Comparative difference'] = ((df_report['GMV_'+str(end_date)[:10]] - df_report['GMV_'+str(end_date_minus_1)[:10]]) / df_report['GMV_'+str(end_date_minus_1)[:10]]) * 100"
   ]
  },
  {
   "cell_type": "code",
   "execution_count": 270,
   "id": "264576fb",
   "metadata": {},
   "outputs": [],
   "source": [
    "df_degrowth = df_report[['Category','Comparative difference','GMV_'+str(end_date)[:10],'GMV_'+str(end_date_minus_1)[:10]]]\n",
    "df_growth = df_report[['Category','Comparative difference','GMV_'+str(end_date)[:10],'GMV_'+str(end_date_minus_1)[:10]]]"
   ]
  },
  {
   "cell_type": "code",
   "execution_count": 271,
   "id": "3c2200bd",
   "metadata": {},
   "outputs": [
    {
     "name": "stderr",
     "output_type": "stream",
     "text": [
      "/var/folders/jb/jckdq3kd0lz19pvvlchblf400000gn/T/ipykernel_45900/3499501194.py:1: SettingWithCopyWarning: \n",
      "A value is trying to be set on a copy of a slice from a DataFrame.\n",
      "Try using .loc[row_indexer,col_indexer] = value instead\n",
      "\n",
      "See the caveats in the documentation: https://pandas.pydata.org/pandas-docs/stable/user_guide/indexing.html#returning-a-view-versus-a-copy\n",
      "  df_degrowth['Absolute difference'] = (df_degrowth['GMV_'+str(end_date)[:10]] - df_degrowth['GMV_'+str(end_date_minus_1)[:10]])\n",
      "/var/folders/jb/jckdq3kd0lz19pvvlchblf400000gn/T/ipykernel_45900/3499501194.py:2: SettingWithCopyWarning: \n",
      "A value is trying to be set on a copy of a slice from a DataFrame.\n",
      "Try using .loc[row_indexer,col_indexer] = value instead\n",
      "\n",
      "See the caveats in the documentation: https://pandas.pydata.org/pandas-docs/stable/user_guide/indexing.html#returning-a-view-versus-a-copy\n",
      "  df_growth['Absolute difference'] = (df_growth['GMV_'+str(end_date)[:10]] - df_growth['GMV_'+str(end_date_minus_1)[:10]])\n"
     ]
    }
   ],
   "source": [
    "df_degrowth['Absolute difference'] = (df_degrowth['GMV_'+str(end_date)[:10]] - df_degrowth['GMV_'+str(end_date_minus_1)[:10]])\n",
    "df_growth['Absolute difference'] = (df_growth['GMV_'+str(end_date)[:10]] - df_growth['GMV_'+str(end_date_minus_1)[:10]])"
   ]
  },
  {
   "cell_type": "code",
   "execution_count": 272,
   "id": "c4b67507",
   "metadata": {},
   "outputs": [],
   "source": [
    "df_degrowth = df_degrowth.nsmallest(4, 'Absolute difference')[['Category','Comparative difference']]\n",
    "df_growth = df_growth.nlargest(4, 'Absolute difference')[['Category','Comparative difference']]"
   ]
  },
  {
   "cell_type": "code",
   "execution_count": 273,
   "id": "cd411f0a",
   "metadata": {},
   "outputs": [],
   "source": [
    "df_degrowth.columns = ['De-Growing Categories','De-Growth %']\n",
    "df_growth.columns = ['Growing Categories','Growth %']"
   ]
  },
  {
   "cell_type": "code",
   "execution_count": 274,
   "id": "28cccacf",
   "metadata": {},
   "outputs": [
    {
     "name": "stderr",
     "output_type": "stream",
     "text": [
      "/Users/alpeshsaharia/anaconda3/lib/python3.11/site-packages/openpyxl/workbook/child.py:99: UserWarning: Title is more than 31 characters. Some applications may not be able to read the file\n",
      "  warnings.warn(\"Title is more than 31 characters. Some applications may not be able to read the file\")\n"
     ]
    }
   ],
   "source": [
    "# # Save to Excel with respective tabs\n",
    "with pd.ExcelWriter(brand+' Daily Sales Report - Amazon Summary.xlsx') as writer:\n",
    "    df_report.to_excel(writer, sheet_name='Amazon Original', index=False)\n",
    "    df_growth.to_excel(writer, sheet_name='Amazon Summary - Growing Categories', index=False)\n",
    "    df_degrowth.to_excel(writer, sheet_name='Amazon Summary - De-Growing Categories', index=False)\n",
    "\n"
   ]
  },
  {
   "cell_type": "code",
   "execution_count": 275,
   "id": "6254ef5a",
   "metadata": {},
   "outputs": [
    {
     "data": {
      "text/html": [
       "<div>\n",
       "<style scoped>\n",
       "    .dataframe tbody tr th:only-of-type {\n",
       "        vertical-align: middle;\n",
       "    }\n",
       "\n",
       "    .dataframe tbody tr th {\n",
       "        vertical-align: top;\n",
       "    }\n",
       "\n",
       "    .dataframe thead th {\n",
       "        text-align: right;\n",
       "    }\n",
       "</style>\n",
       "<table border=\"1\" class=\"dataframe\">\n",
       "  <thead>\n",
       "    <tr style=\"text-align: right;\">\n",
       "      <th></th>\n",
       "      <th>Category</th>\n",
       "      <th>Attainment%_MTD</th>\n",
       "      <th>Attainment%_Forecast</th>\n",
       "      <th>GMV_Target</th>\n",
       "      <th>GMV_Forecast</th>\n",
       "      <th>GMV_MTD</th>\n",
       "      <th>GMV_2025-03-24</th>\n",
       "      <th>GMV_2025-03-23</th>\n",
       "      <th>Comparative difference</th>\n",
       "    </tr>\n",
       "  </thead>\n",
       "  <tbody>\n",
       "  </tbody>\n",
       "</table>\n",
       "</div>"
      ],
      "text/plain": [
       "Empty DataFrame\n",
       "Columns: [Category, Attainment%_MTD, Attainment%_Forecast, GMV_Target, GMV_Forecast, GMV_MTD, GMV_2025-03-24, GMV_2025-03-23, Comparative difference]\n",
       "Index: []"
      ]
     },
     "execution_count": 275,
     "metadata": {},
     "output_type": "execute_result"
    }
   ],
   "source": [
    "df_report[:0]"
   ]
  },
  {
   "cell_type": "code",
   "execution_count": 276,
   "id": "45f1b095",
   "metadata": {},
   "outputs": [
    {
     "data": {
      "text/html": [
       "<div>\n",
       "<style scoped>\n",
       "    .dataframe tbody tr th:only-of-type {\n",
       "        vertical-align: middle;\n",
       "    }\n",
       "\n",
       "    .dataframe tbody tr th {\n",
       "        vertical-align: top;\n",
       "    }\n",
       "\n",
       "    .dataframe thead th {\n",
       "        text-align: right;\n",
       "    }\n",
       "</style>\n",
       "<table border=\"1\" class=\"dataframe\">\n",
       "  <thead>\n",
       "    <tr style=\"text-align: right;\">\n",
       "      <th></th>\n",
       "      <th>Growing Categories</th>\n",
       "      <th>Growth %</th>\n",
       "    </tr>\n",
       "  </thead>\n",
       "  <tbody>\n",
       "    <tr>\n",
       "      <th>0</th>\n",
       "      <td>Toilet Tissue Rolls</td>\n",
       "      <td>9.119638</td>\n",
       "    </tr>\n",
       "    <tr>\n",
       "      <th>2</th>\n",
       "      <td>Plain Napkins</td>\n",
       "      <td>22.112692</td>\n",
       "    </tr>\n",
       "    <tr>\n",
       "      <th>25</th>\n",
       "      <td>Tissue Paper Dispenser</td>\n",
       "      <td>1904.142012</td>\n",
       "    </tr>\n",
       "    <tr>\n",
       "      <th>7</th>\n",
       "      <td>Paper Plates</td>\n",
       "      <td>38.801262</td>\n",
       "    </tr>\n",
       "  </tbody>\n",
       "</table>\n",
       "</div>"
      ],
      "text/plain": [
       "        Growing Categories     Growth %\n",
       "0      Toilet Tissue Rolls     9.119638\n",
       "2            Plain Napkins    22.112692\n",
       "25  Tissue Paper Dispenser  1904.142012\n",
       "7             Paper Plates    38.801262"
      ]
     },
     "execution_count": 276,
     "metadata": {},
     "output_type": "execute_result"
    }
   ],
   "source": [
    "df_growth"
   ]
  },
  {
   "cell_type": "code",
   "execution_count": 227,
   "id": "df24d79a",
   "metadata": {},
   "outputs": [
    {
     "data": {
      "text/html": [
       "<div>\n",
       "<style scoped>\n",
       "    .dataframe tbody tr th:only-of-type {\n",
       "        vertical-align: middle;\n",
       "    }\n",
       "\n",
       "    .dataframe tbody tr th {\n",
       "        vertical-align: top;\n",
       "    }\n",
       "\n",
       "    .dataframe thead th {\n",
       "        text-align: right;\n",
       "    }\n",
       "</style>\n",
       "<table border=\"1\" class=\"dataframe\">\n",
       "  <thead>\n",
       "    <tr style=\"text-align: right;\">\n",
       "      <th></th>\n",
       "      <th>De-Growing Categories</th>\n",
       "      <th>De-Growth %</th>\n",
       "    </tr>\n",
       "  </thead>\n",
       "  <tbody>\n",
       "    <tr>\n",
       "      <th>4</th>\n",
       "      <td>Non-Woven Kitchen Towel Rolls</td>\n",
       "      <td>-11.240725</td>\n",
       "    </tr>\n",
       "    <tr>\n",
       "      <th>1</th>\n",
       "      <td>Kitchen Towel Rolls</td>\n",
       "      <td>-15.165389</td>\n",
       "    </tr>\n",
       "    <tr>\n",
       "      <th>3</th>\n",
       "      <td>Box Facial Tissues</td>\n",
       "      <td>-11.562070</td>\n",
       "    </tr>\n",
       "    <tr>\n",
       "      <th>6</th>\n",
       "      <td>Box Facial Tissues (Soft)</td>\n",
       "      <td>-21.935880</td>\n",
       "    </tr>\n",
       "  </tbody>\n",
       "</table>\n",
       "</div>"
      ],
      "text/plain": [
       "           De-Growing Categories  De-Growth %\n",
       "4  Non-Woven Kitchen Towel Rolls   -11.240725\n",
       "1            Kitchen Towel Rolls   -15.165389\n",
       "3             Box Facial Tissues   -11.562070\n",
       "6      Box Facial Tissues (Soft)   -21.935880"
      ]
     },
     "execution_count": 227,
     "metadata": {},
     "output_type": "execute_result"
    }
   ],
   "source": [
    "df_degrowth"
   ]
  },
  {
   "cell_type": "code",
   "execution_count": null,
   "id": "4aa87d77",
   "metadata": {},
   "outputs": [],
   "source": []
  },
  {
   "cell_type": "code",
   "execution_count": null,
   "id": "009d21cd",
   "metadata": {},
   "outputs": [],
   "source": []
  }
 ],
 "metadata": {
  "kernelspec": {
   "display_name": "Python 3 (ipykernel)",
   "language": "python",
   "name": "python3"
  },
  "language_info": {
   "codemirror_mode": {
    "name": "ipython",
    "version": 3
   },
   "file_extension": ".py",
   "mimetype": "text/x-python",
   "name": "python",
   "nbconvert_exporter": "python",
   "pygments_lexer": "ipython3",
   "version": "3.10.11"
  }
 },
 "nbformat": 4,
 "nbformat_minor": 5
}
