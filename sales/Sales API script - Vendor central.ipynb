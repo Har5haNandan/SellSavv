{
 "cells": [
  {
   "cell_type": "code",
   "execution_count": 152,
   "id": "dff34cbe",
   "metadata": {},
   "outputs": [],
   "source": [
    "import pandas as pd\n",
    "import numpy as np"
   ]
  },
  {
   "cell_type": "code",
   "execution_count": 153,
   "id": "a7086e0a",
   "metadata": {},
   "outputs": [],
   "source": [
    "import requests\n",
    "import random\n",
    "import string\n",
    "from datetime import datetime, timedelta\n",
    "from urllib.parse import urlencode, urlunparse"
   ]
  },
  {
   "cell_type": "code",
   "execution_count": 154,
   "id": "d7e52a6f",
   "metadata": {},
   "outputs": [],
   "source": [
    "import pandas as pd\n",
    "import time"
   ]
  },
  {
   "cell_type": "code",
   "execution_count": 155,
   "id": "01250cad",
   "metadata": {},
   "outputs": [],
   "source": [
    "import os\n",
    "import glob\n",
    "\n",
    "os.environ[\"ENV_DISABLE_DONATION_MSG\"] = \"1\""
   ]
  },
  {
   "cell_type": "code",
   "execution_count": 156,
   "id": "52356869",
   "metadata": {},
   "outputs": [
    {
     "name": "stdout",
     "output_type": "stream",
     "text": [
      "State Value: nitztJDhlj7eskjec9Gsjg\n"
     ]
    }
   ],
   "source": [
    "import secrets\n",
    "\n",
    "# Generate a secure random string for state\n",
    "state = secrets.token_urlsafe(16)\n",
    "print(\"State Value:\", state)"
   ]
  },
  {
   "cell_type": "code",
   "execution_count": 157,
   "id": "023ac041",
   "metadata": {},
   "outputs": [
    {
     "name": "stdout",
     "output_type": "stream",
     "text": [
      "Authorisation Link: https://www.vendorcentral.in/apps/authorize/consent?application_id=amzn1.sp.solution.140968f5-22fb-4861-9b0b-1ce370f042b7&state=nitztJDhlj7eskjec9Gsjg&version=beta\n"
     ]
    }
   ],
   "source": [
    "url = \"https://www.vendorcentral.in/apps/authorize/consent?application_id=\"\n",
    "app_id = \"amzn1.sp.solution.140968f5-22fb-4861-9b0b-1ce370f042b7&state=\"\n",
    "version = \"&version=beta\"\n",
    "    \n",
    "combined_url = url+app_id+state+version\n",
    "print(\"Authorisation Link: \"+combined_url)   "
   ]
  },
  {
   "cell_type": "code",
   "execution_count": 158,
   "id": "af079dd8",
   "metadata": {},
   "outputs": [
    {
     "name": "stdout",
     "output_type": "stream",
     "text": [
      "['https://major-cloud-prove.loca.lt/amazon-oauthredirect?spapi_oauth_code', 'RHveDkWxgLKHdxjQvsId&state', 'nitztJDhlj7eskjec9Gsjg&selling_partner_id', 'amzn1.vg.8129292']\n"
     ]
    }
   ],
   "source": [
    "redirect_url = \"https://major-cloud-prove.loca.lt/amazon-oauthredirect?spapi_oauth_code=RHveDkWxgLKHdxjQvsId&state=nitztJDhlj7eskjec9Gsjg&selling_partner_id=amzn1.vg.8129292\"\n",
    "print(redirect_url.split(\"=\"))"
   ]
  },
  {
   "cell_type": "code",
   "execution_count": 159,
   "id": "714afb50",
   "metadata": {},
   "outputs": [],
   "source": [
    "spapi_oauth_code = redirect_url.split(\"=\")[1].split(\"&\")[0]\n",
    "selling_partner_id = redirect_url.split(\"=\")[-1]"
   ]
  },
  {
   "cell_type": "code",
   "execution_count": 160,
   "id": "86a2a1e2",
   "metadata": {},
   "outputs": [
    {
     "name": "stdout",
     "output_type": "stream",
     "text": [
      "{\"access_token\":\"Atza|IwEBIPuAbWH7gcZ-4vWYi3ObrBnpF2g3rwdoWtca4AunAVUROzJ_cfj1t7zaAnchN9vqv9c1KqCjO7fb_KEPbE_xGdu1jrq7r4PkL6RekBAfHWQuIIftLmm_pKlSy8NshnYLvuUtIxJhR4pUCK2aJ9hFRtdB1uwTB1L38lFH_ymls6JkGxYneSZ1Efat4X-XRdFSe8gDEAxti6QbMSbN7yNDKkVkb9r8RlHPx40Isj-G5mxezwJv6pzwrPxCC27Bx7y447Uby0BG3JRVuknR-CdTzqRAjSrmXn-zMmBv7OZLdYAOzA\",\"refresh_token\":\"Atzr|IwEBIMdOjqZHOup--ngAxWlgcgmEK3r_UNk-QdcnzBcERkyF0rQ53DyOCEAn5ppzRfsbxfcXxIYmxy2VEJZSO6WvATGtmB5cVeX2SwVJ_YH4yeuS4fR6cfWH_J7q5dNFC8qbGJpraZXefVkmsoOvyI0TFNAMDWdd45i-74ygJBGyTT2ZeKOO3adWNmsRxuT7xMnA1K26rwSP7pTs1hJJeaaruFXLxdLABIntvyXmPmDz0XZROdTvrcTyue1N9xRLcBfQZXNTXMtxFlGYlhh8mlf-4VeiODh6AZ6J3n5946yIlEOeylroJhY6La-CrOGCdn8CkGA\",\"token_type\":\"bearer\",\"expires_in\":3600}\n"
     ]
    }
   ],
   "source": [
    "import requests\n",
    "\n",
    "# Define the URL\n",
    "url = \"https://api.amazon.com/auth/o2/token\"\n",
    "\n",
    "# Set the parameters for the POST request\n",
    "payload = {\n",
    "    \"grant_type\": \"authorization_code\",\n",
    "    \"code\": spapi_oauth_code,  # Replace with your actual authorization code\n",
    "    \"redirect_uri\": \"https://major-cloud-prove.loca.lt/amazon-oauthredirect\",  # Replace with your actual redirect URI\n",
    "    \"client_id\": \"amzn1.application-oa2-client.86dade25ce1f497d83183e7184bdcccf\",  # Replace with your actual client ID\n",
    "    \"client_secret\": \"amzn1.oa2-cs.v1.afd998faf2c20fa14fe1a91eea9c08efabb8ca58a75cde3bd46e63c07f8fa959\"  # Replace with your actual client secret\n",
    "}\n",
    "\n",
    "# Set the headers\n",
    "headers = {\n",
    "    \"Content-Type\": \"application/x-www-form-urlencoded\"\n",
    "}\n",
    "\n",
    "# Send the POST request\n",
    "response = requests.post(url, data=payload, headers=headers)\n",
    "\n",
    "# Print the response from the server\n",
    "print(response.text)"
   ]
  },
  {
   "cell_type": "code",
   "execution_count": 161,
   "id": "792d1ba9",
   "metadata": {},
   "outputs": [
    {
     "name": "stdout",
     "output_type": "stream",
     "text": [
      "{\"access_token\":\"Atza|IwEBIOQ12BS0yRNZSzAdHYRR3ys55bkMFRgTSgf1jjSFLYEZ7QShMjoYZtWL3U-D3YXAA3rKbPjxusAZeSvtEdbhk0oHePvVyS0zixawe0eNBWAmjVzTRKS0nDnZWPrzbtxc_U3oVJi_Opnw5oSJea7BLnR9b4RAXojqNnNlfHjShPrNnST7JCSQQAt6iowTJU28wPInG9655yC0C2GKDhqFKmIqIkwj7oFviaL03S6yggx8uNyPZDMkg1Qnth9OlOujXs9tZvj02RlGt9EJBxiqmQ6QRKti9Karhr0hT8GTSn50Kh1Wx-Nsc7WP08SN4eO6AC_7JsQ-GhnpfFDBwPZzUeeb\",\"refresh_token\":\"Atzr|IwEBIMdOjqZHOup--ngAxWlgcgmEK3r_UNk-QdcnzBcERkyF0rQ53DyOCEAn5ppzRfsbxfcXxIYmxy2VEJZSO6WvATGtmB5cVeX2SwVJ_YH4yeuS4fR6cfWH_J7q5dNFC8qbGJpraZXefVkmsoOvyI0TFNAMDWdd45i-74ygJBGyTT2ZeKOO3adWNmsRxuT7xMnA1K26rwSP7pTs1hJJeaaruFXLxdLABIntvyXmPmDz0XZROdTvrcTyue1N9xRLcBfQZXNTXMtxFlGYlhh8mlf-4VeiODh6AZ6J3n5946yIlEOeylroJhY6La-CrOGCdn8CkGA\",\"token_type\":\"bearer\",\"expires_in\":3600}\n"
     ]
    }
   ],
   "source": [
    "import requests\n",
    "\n",
    "# Define the URL\n",
    "url = \"https://api.amazon.com/auth/o2/token\"\n",
    "\n",
    "# Set the parameters for the POST request\n",
    "payload = {\n",
    "    \"grant_type\": \"refresh_token\",\n",
    "    \"refresh_token\": response.json()['refresh_token'],  # Replace with your actual refresh token\n",
    "    \"client_id\": \"amzn1.application-oa2-client.86dade25ce1f497d83183e7184bdcccf\",  # Replace with your actual client ID\n",
    "    \"client_secret\": \"amzn1.oa2-cs.v1.afd998faf2c20fa14fe1a91eea9c08efabb8ca58a75cde3bd46e63c07f8fa959\"  # Replace with your actual client secret\n",
    "}\n",
    "\n",
    "# Set the headers\n",
    "headers = {\n",
    "    \"Content-Type\": \"application/x-www-form-urlencoded\"\n",
    "}\n",
    "\n",
    "# Send the POST request\n",
    "response = requests.post(url, data=payload, headers=headers)\n",
    "\n",
    "# Print the response from the server\n",
    "print(response.text)\n"
   ]
  },
  {
   "cell_type": "code",
   "execution_count": 162,
   "id": "37de06cd",
   "metadata": {},
   "outputs": [],
   "source": [
    "#!pip install python-amazon-sp-api"
   ]
  },
  {
   "cell_type": "code",
   "execution_count": 163,
   "id": "436458a8",
   "metadata": {},
   "outputs": [
    {
     "data": {
      "text/plain": [
       "'Atzr|IwEBIMdOjqZHOup--ngAxWlgcgmEK3r_UNk-QdcnzBcERkyF0rQ53DyOCEAn5ppzRfsbxfcXxIYmxy2VEJZSO6WvATGtmB5cVeX2SwVJ_YH4yeuS4fR6cfWH_J7q5dNFC8qbGJpraZXefVkmsoOvyI0TFNAMDWdd45i-74ygJBGyTT2ZeKOO3adWNmsRxuT7xMnA1K26rwSP7pTs1hJJeaaruFXLxdLABIntvyXmPmDz0XZROdTvrcTyue1N9xRLcBfQZXNTXMtxFlGYlhh8mlf-4VeiODh6AZ6J3n5946yIlEOeylroJhY6La-CrOGCdn8CkGA'"
      ]
     },
     "execution_count": 163,
     "metadata": {},
     "output_type": "execute_result"
    }
   ],
   "source": [
    "response.json()['refresh_token']"
   ]
  },
  {
   "cell_type": "code",
   "execution_count": 164,
   "id": "0bdbb2bc",
   "metadata": {},
   "outputs": [],
   "source": [
    "credentials=dict(\n",
    "        refresh_token=response.json()['refresh_token'],\n",
    "        lwa_app_id='amzn1.application-oa2-client.86dade25ce1f497d83183e7184bdcccf',\n",
    "        lwa_client_secret='amzn1.oa2-cs.v1.afd998faf2c20fa14fe1a91eea9c08efabb8ca58a75cde3bd46e63c07f8fa959'\n",
    "    )"
   ]
  },
  {
   "cell_type": "code",
   "execution_count": 165,
   "id": "20991dcb",
   "metadata": {},
   "outputs": [],
   "source": [
    "from datetime import datetime, timedelta\n",
    "\n",
    "def generate_15_day_intervals(start_date_str, end_date_str):\n",
    "    start_date = datetime.strptime(start_date_str, \"%Y-%m-%d\")\n",
    "    end_date = datetime.strptime(end_date_str, \"%Y-%m-%d\")\n",
    "\n",
    "    intervals = []\n",
    "    current_start = start_date\n",
    "\n",
    "    while current_start <= end_date:\n",
    "        current_end = min(current_start + timedelta(days=14), end_date)\n",
    "        intervals.append((current_start.strftime(\"%Y-%m-%d\"), current_end.strftime(\"%Y-%m-%d\")))\n",
    "        current_start = current_end + timedelta(days=1)\n",
    "\n",
    "    return intervals"
   ]
  },
  {
   "cell_type": "code",
   "execution_count": 166,
   "id": "1773f37e",
   "metadata": {},
   "outputs": [],
   "source": [
    "st = \"2025-03-01\" #enter start date YYYY-MM-DD"
   ]
  },
  {
   "cell_type": "code",
   "execution_count": 167,
   "id": "87020d0c",
   "metadata": {},
   "outputs": [],
   "source": [
    "et = \"2025-03-24\" #enter start date YYYY-MM-DD"
   ]
  },
  {
   "cell_type": "code",
   "execution_count": 168,
   "id": "b7383a5b",
   "metadata": {},
   "outputs": [],
   "source": [
    "brand=\"Origami\""
   ]
  },
  {
   "cell_type": "code",
   "execution_count": 169,
   "id": "aaf4674b",
   "metadata": {},
   "outputs": [],
   "source": [
    "from sp_api.api import Reports\n",
    "from sp_api.base import Granularity\n",
    "from sp_api.base import Marketplaces\n",
    "\n",
    "reports = Reports(credentials=credentials, marketplace=Marketplaces.IN)"
   ]
  },
  {
   "cell_type": "code",
   "execution_count": 170,
   "id": "a413a294",
   "metadata": {},
   "outputs": [
    {
     "data": {
      "text/plain": [
       "[('2025-03-01', '2025-03-15'), ('2025-03-16', '2025-03-24')]"
      ]
     },
     "execution_count": 170,
     "metadata": {},
     "output_type": "execute_result"
    }
   ],
   "source": [
    "generate_15_day_intervals(st, et)"
   ]
  },
  {
   "cell_type": "code",
   "execution_count": 171,
   "id": "dc58a6c0",
   "metadata": {},
   "outputs": [],
   "source": [
    "def pull_data(st, et):\n",
    "    intervals = generate_15_day_intervals(st, et)\n",
    "    df_total_sales = pd.DataFrame()\n",
    "    for interval in intervals:\n",
    "        print(interval)\n",
    "        start_time_str = interval[0]+\"T00:00:00Z\"\n",
    "        end_time_str = interval[1]+\"T23:59:59Z\"\n",
    "        print(start_time_str,end_time_str)\n",
    "        response = reports.create_report(\n",
    "            reportType='GET_VENDOR_SALES_REPORT', #GET_SALES_AND_TRAFFIC_REPORT,GET_VENDOR_SALES_REPORT\n",
    "            marketplaceIds=['A21TJRUUN4KGV'],  # Example: IN marketplace\n",
    "            dataStartTime=start_time_str,#2024-10-15T00:00:00Z,2024-10-30T00:00:00Z,2024-11-14T00:00:00Z,2024-11-29T00:00:00Z\n",
    "            dataEndTime=end_time_str,#2024-10-29T23:59:59Z,2024-11-13T23:59:59Z,2024-11-28T23:59:59Z,2024-12-08T23:59:59Z\n",
    "            reportOptions={\"reportPeriod\":\"DAY\", \"distributorView\":\"MANUFACTURING\", \"sellingProgram\":\"RETAIL\" }\n",
    "        )\n",
    "        report_id = response.payload['reportId']\n",
    "        payload = reports.get_report(report_id).payload\n",
    "        while True:\n",
    "            payload = reports.get_report(report_id).payload\n",
    "            if payload.get('processingStatus') == 'DONE':\n",
    "                print(\"Processing complete.\")\n",
    "                document_id = payload['reportDocumentId']\n",
    "                break\n",
    "            print(\"Sleeping for 10 seconds...\")\n",
    "            time.sleep(10)\n",
    "        url = reports.get_report_document(document_id).payload['url']\n",
    "        \n",
    "        headers = {\n",
    "        'Accept': 'application/json',\n",
    "        'Content-Type': 'application/x-gzip'\n",
    "    }\n",
    "\n",
    "        response = requests.get(url, headers=headers)\n",
    "\n",
    "        if response.status_code == 200:\n",
    "            # Step 2: Save the content to a local GZIP file\n",
    "            with open(\"report_content.gz\", \"wb\") as f:\n",
    "                f.write(response.content)\n",
    "            print(\"Report downloaded successfully as 'report_content.gz'.\")\n",
    "\n",
    "            # Step 3: Decompress the GZIP file\n",
    "            with gzip.open(\"report_content.gz\", \"rb\") as f:\n",
    "                report_data = f.read().decode('utf-8')\n",
    "\n",
    "            # Step 4: Parse the JSON content (if applicable)\n",
    "            data = json.loads(report_data)\n",
    "\n",
    "            # Step 5: Convert the JSON data to a DataFrame (optional)\n",
    "            df = pd.json_normalize(data)\n",
    "            print(df.head())\n",
    "\n",
    "            # Save to CSV for further analysis (optional)\n",
    "            df.to_csv(\"vendor_sales_report.csv\", index=False)\n",
    "            print(\"Report saved as 'sales_report.csv'.\")\n",
    "        else:\n",
    "            print(f\"Failed to download report. Status code: {response.status_code}\")\n",
    "\n",
    "        df_sales = pd.DataFrame(data['salesByAsin'])\n",
    "        if len(df_sales) != 0:\n",
    "            df_sales['orderedRevenue'] = df_sales['orderedRevenue'].apply(lambda x : x['amount'])\n",
    "            df_sales['shippedCogs'] = df_sales['shippedCogs'].apply(lambda x : x['amount'])\n",
    "            df_sales['shippedRevenue'] = df_sales['shippedRevenue'].apply(lambda x : x['amount'])\n",
    "            df_total_sales = pd.concat([df_sales,df_total_sales])\n",
    "        else:\n",
    "            print(\"No data\")\n",
    "    \n",
    "    filename = brand+\"_\"+selling_partner_id+\"_\"+st+\"-TO-\"+et+\".csv\"\n",
    "    if len(df_total_sales) != 0:\n",
    "        df_total_sales.to_csv(\"data/sales/vc/\"+filename, index=False)\n",
    "    return df_total_sales\n",
    "\n"
   ]
  },
  {
   "cell_type": "code",
   "execution_count": 172,
   "id": "31d248af",
   "metadata": {},
   "outputs": [
    {
     "name": "stdout",
     "output_type": "stream",
     "text": [
      "('2025-03-01', '2025-03-15')\n",
      "2025-03-01T00:00:00Z 2025-03-15T23:59:59Z\n",
      "Sleeping for 10 seconds...\n",
      "Sleeping for 10 seconds...\n",
      "Sleeping for 10 seconds...\n",
      "Sleeping for 10 seconds...\n",
      "Sleeping for 10 seconds...\n",
      "Sleeping for 10 seconds...\n",
      "Sleeping for 10 seconds...\n",
      "Sleeping for 10 seconds...\n",
      "Sleeping for 10 seconds...\n",
      "Sleeping for 10 seconds...\n",
      "Sleeping for 10 seconds...\n",
      "Sleeping for 10 seconds...\n",
      "Sleeping for 10 seconds...\n",
      "Sleeping for 10 seconds...\n",
      "Sleeping for 10 seconds...\n",
      "Sleeping for 10 seconds...\n",
      "Sleeping for 10 seconds...\n",
      "Sleeping for 10 seconds...\n",
      "Sleeping for 10 seconds...\n",
      "Sleeping for 10 seconds...\n",
      "Sleeping for 10 seconds...\n",
      "Sleeping for 10 seconds...\n",
      "Sleeping for 10 seconds...\n",
      "Sleeping for 10 seconds...\n",
      "Sleeping for 10 seconds...\n",
      "Sleeping for 10 seconds...\n",
      "Sleeping for 10 seconds...\n",
      "Sleeping for 10 seconds...\n",
      "Sleeping for 10 seconds...\n",
      "Sleeping for 10 seconds...\n",
      "Processing complete.\n",
      "Report downloaded successfully as 'report_content.gz'.\n",
      "                                      salesAggregate  \\\n",
      "0  [{'startDate': '2025-03-01', 'endDate': '2025-...   \n",
      "\n",
      "                                         salesByAsin  \\\n",
      "0  [{'startDate': '2025-03-01', 'endDate': '2025-...   \n",
      "\n",
      "  reportSpecification.reportType  \\\n",
      "0        GET_VENDOR_SALES_REPORT   \n",
      "\n",
      "  reportSpecification.reportOptions.reportPeriod  \\\n",
      "0                                            DAY   \n",
      "\n",
      "  reportSpecification.reportOptions.sellingProgram  \\\n",
      "0                                           RETAIL   \n",
      "\n",
      "  reportSpecification.reportOptions.distributorView  \\\n",
      "0                                     MANUFACTURING   \n",
      "\n",
      "  reportSpecification.lastUpdatedDate reportSpecification.dataStartTime  \\\n",
      "0                          2025-03-24                        2025-03-01   \n",
      "\n",
      "  reportSpecification.dataEndTime reportSpecification.marketplaceIds  \n",
      "0                      2025-03-15                    [A21TJRUUN4KGV]  \n",
      "Report saved as 'sales_report.csv'.\n",
      "('2025-03-16', '2025-03-24')\n",
      "2025-03-16T00:00:00Z 2025-03-24T23:59:59Z\n",
      "Sleeping for 10 seconds...\n",
      "Sleeping for 10 seconds...\n",
      "Sleeping for 10 seconds...\n",
      "Sleeping for 10 seconds...\n",
      "Sleeping for 10 seconds...\n",
      "Sleeping for 10 seconds...\n",
      "Sleeping for 10 seconds...\n",
      "Sleeping for 10 seconds...\n",
      "Sleeping for 10 seconds...\n",
      "Sleeping for 10 seconds...\n",
      "Sleeping for 10 seconds...\n",
      "Sleeping for 10 seconds...\n",
      "Sleeping for 10 seconds...\n",
      "Sleeping for 10 seconds...\n",
      "Sleeping for 10 seconds...\n",
      "Sleeping for 10 seconds...\n",
      "Processing complete.\n",
      "Report downloaded successfully as 'report_content.gz'.\n",
      "                                      salesAggregate  \\\n",
      "0  [{'startDate': '2025-03-16', 'endDate': '2025-...   \n",
      "\n",
      "                                         salesByAsin  \\\n",
      "0  [{'startDate': '2025-03-16', 'endDate': '2025-...   \n",
      "\n",
      "  reportSpecification.reportType  \\\n",
      "0        GET_VENDOR_SALES_REPORT   \n",
      "\n",
      "  reportSpecification.reportOptions.reportPeriod  \\\n",
      "0                                            DAY   \n",
      "\n",
      "  reportSpecification.reportOptions.sellingProgram  \\\n",
      "0                                           RETAIL   \n",
      "\n",
      "  reportSpecification.reportOptions.distributorView  \\\n",
      "0                                     MANUFACTURING   \n",
      "\n",
      "  reportSpecification.lastUpdatedDate reportSpecification.dataStartTime  \\\n",
      "0                          2025-03-24                        2025-03-16   \n",
      "\n",
      "  reportSpecification.dataEndTime reportSpecification.marketplaceIds  \n",
      "0                      2025-03-24                    [A21TJRUUN4KGV]  \n",
      "Report saved as 'sales_report.csv'.\n"
     ]
    }
   ],
   "source": [
    "df_total_sales = pull_data(st, et)"
   ]
  },
  {
   "cell_type": "code",
   "execution_count": 173,
   "id": "f2c74359",
   "metadata": {},
   "outputs": [
    {
     "data": {
      "text/plain": [
       "'Origami_amzn1.vg.8129292_2025-03-01-TO-2025-03-24.csv'"
      ]
     },
     "execution_count": 173,
     "metadata": {},
     "output_type": "execute_result"
    }
   ],
   "source": [
    "filename = brand+\"_\"+selling_partner_id+\"_\"+st+\"-TO-\"+et+\".csv\"\n",
    "filename"
   ]
  },
  {
   "cell_type": "code",
   "execution_count": 174,
   "id": "51e5ecc0",
   "metadata": {},
   "outputs": [],
   "source": [
    "if len(df_total_sales) != 0:\n",
    "    latest_folder = \"data/sales/vc/latest/\"+brand+\"/\"+selling_partner_id+\"/\"\n",
    "    os.makedirs(latest_folder, exist_ok=True)\n",
    "    for file_path in glob.glob(os.path.join(latest_folder, \"*\")):\n",
    "        os.remove(file_path)\n",
    "\n",
    "    df_total_sales.to_csv(latest_folder + filename, index=False)"
   ]
  },
  {
   "cell_type": "code",
   "execution_count": 175,
   "id": "212e8b52",
   "metadata": {},
   "outputs": [
    {
     "data": {
      "text/plain": [
       "609"
      ]
     },
     "execution_count": 175,
     "metadata": {},
     "output_type": "execute_result"
    }
   ],
   "source": [
    "len(df_total_sales)"
   ]
  },
  {
   "cell_type": "code",
   "execution_count": 176,
   "id": "c5aad976",
   "metadata": {},
   "outputs": [
    {
     "data": {
      "text/plain": [
       "33"
      ]
     },
     "execution_count": 176,
     "metadata": {},
     "output_type": "execute_result"
    }
   ],
   "source": [
    "len(df_total_sales['asin'].unique())"
   ]
  },
  {
   "cell_type": "code",
   "execution_count": 177,
   "id": "b1847cb7",
   "metadata": {},
   "outputs": [
    {
     "data": {
      "text/plain": [
       "1149655.7999999998"
      ]
     },
     "execution_count": 177,
     "metadata": {},
     "output_type": "execute_result"
    }
   ],
   "source": [
    "df_total_sales['orderedRevenue'].sum()"
   ]
  },
  {
   "cell_type": "code",
   "execution_count": null,
   "id": "827d4205",
   "metadata": {},
   "outputs": [],
   "source": []
  },
  {
   "cell_type": "code",
   "execution_count": null,
   "id": "c114c3fc",
   "metadata": {},
   "outputs": [],
   "source": []
  }
 ],
 "metadata": {
  "kernelspec": {
   "display_name": "Python 3 (ipykernel)",
   "language": "python",
   "name": "python3"
  },
  "language_info": {
   "codemirror_mode": {
    "name": "ipython",
    "version": 3
   },
   "file_extension": ".py",
   "mimetype": "text/x-python",
   "name": "python",
   "nbconvert_exporter": "python",
   "pygments_lexer": "ipython3",
   "version": "3.10.11"
  }
 },
 "nbformat": 4,
 "nbformat_minor": 5
}
